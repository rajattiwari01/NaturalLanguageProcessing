{
 "cells": [
  {
   "cell_type": "code",
   "execution_count": 1,
   "metadata": {},
   "outputs": [
    {
     "name": "stderr",
     "output_type": "stream",
     "text": [
      "[nltk_data] Downloading package punkt to\n",
      "[nltk_data]     C:\\Users\\webhelp\\AppData\\Roaming\\nltk_data...\n",
      "[nltk_data]   Package punkt is already up-to-date!\n",
      "[nltk_data] Downloading package gutenberg to\n",
      "[nltk_data]     C:\\Users\\webhelp\\AppData\\Roaming\\nltk_data...\n",
      "[nltk_data]   Package gutenberg is already up-to-date!\n"
     ]
    }
   ],
   "source": [
    "import nltk\n",
    "nltk.download('punkt')\n",
    "nltk.download('gutenberg')\n",
    "\n",
    "import warnings\n",
    "warnings.filterwarnings('ignore')"
   ]
  },
  {
   "cell_type": "code",
   "execution_count": 2,
   "metadata": {},
   "outputs": [
    {
     "name": "stdout",
     "output_type": "stream",
     "text": [
      "austen-emma.txt [Emma by Jane Austen 1816]\n",
      "\n",
      "VOLUME I\n",
      "\n",
      "CHAPTER I\n",
      "\n",
      "\n",
      "Emma Woodhouse, handsome, clever, and rich, with a comfortable home\n",
      "and happy disposition, seemed to unite some of the best blessings\n",
      "of existence; an ...\n",
      "austen-persuasion.txt [Persuasion by Jane Austen 1818]\n",
      "\n",
      "\n",
      "Chapter 1\n",
      "\n",
      "\n",
      "Sir Walter Elliot, of Kellynch Hall, in Somersetshire, was a man who,\n",
      "for his own amusement, never took up any book but the Baronetage;\n",
      "there he found oc ...\n",
      "austen-sense.txt [Sense and Sensibility by Jane Austen 1811]\n",
      "\n",
      "CHAPTER 1\n",
      "\n",
      "\n",
      "The family of Dashwood had long been settled in Sussex.\n",
      "Their estate was large, and their residence was at Norland Park,\n",
      "in the centre of their ...\n",
      "bible-kjv.txt [The King James Bible]\n",
      "\n",
      "The Old Testament of the King James Bible\n",
      "\n",
      "The First Book of Moses:  Called Genesis\n",
      "\n",
      "\n",
      "1:1 In the beginning God created the heaven and the earth.\n",
      "\n",
      "1:2 And the earth was without  ...\n",
      "blake-poems.txt [Poems by William Blake 1789]\n",
      "\n",
      " \n",
      "SONGS OF INNOCENCE AND OF EXPERIENCE\n",
      "and THE BOOK of THEL\n",
      "\n",
      "\n",
      " SONGS OF INNOCENCE\n",
      " \n",
      " \n",
      " INTRODUCTION\n",
      " \n",
      " Piping down the valleys wild,\n",
      "   Piping songs of pleasant glee,\n",
      " O ...\n",
      "bryant-stories.txt [Stories to Tell to Children by Sara Cone Bryant 1918] \n",
      "\n",
      "\n",
      "TWO LITTLE RIDDLES IN RHYME\n",
      "\n",
      "\n",
      "     There's a garden that I ken,\n",
      "     Full of little gentlemen;\n",
      "     Little caps of blue they wear,\n",
      "   ...\n",
      "burgess-busterbrown.txt [The Adventures of Buster Bear by Thornton W. Burgess 1920]\n",
      "\n",
      "I\n",
      "\n",
      "BUSTER BEAR GOES FISHING\n",
      "\n",
      "\n",
      "Buster Bear yawned as he lay on his comfortable bed of leaves and\n",
      "watched the first early morning sun ...\n",
      "carroll-alice.txt [Alice's Adventures in Wonderland by Lewis Carroll 1865]\n",
      "\n",
      "CHAPTER I. Down the Rabbit-Hole\n",
      "\n",
      "Alice was beginning to get very tired of sitting by her sister on the\n",
      "bank, and of having nothing to do: once ...\n",
      "chesterton-ball.txt [The Ball and The Cross by G.K. Chesterton 1909]\n",
      "\n",
      "\n",
      "I. A DISCUSSION SOMEWHAT IN THE AIR\n",
      "\n",
      "The flying ship of Professor Lucifer sang through the skies like\n",
      "a silver arrow; the bleak white steel of it, gl ...\n",
      "chesterton-brown.txt [The Wisdom of Father Brown by G. K. Chesterton 1914]\n",
      "\n",
      "\n",
      "I. The Absence of Mr Glass\n",
      "\n",
      "\n",
      "THE consulting-rooms of Dr Orion Hood, the eminent criminologist\n",
      "and specialist in certain moral disorders, lay alo ...\n",
      "chesterton-thursday.txt [The Man Who Was Thursday by G. K. Chesterton 1908]\n",
      "\n",
      "To Edmund Clerihew Bentley\n",
      "\n",
      "A cloud was on the mind of men, and wailing went the weather,\n",
      "Yea, a sick cloud upon the soul when we were boys togethe ...\n",
      "edgeworth-parents.txt [The Parent's Assistant, by Maria Edgeworth]\n",
      "\n",
      "\n",
      "THE ORPHANS.\n",
      "\n",
      "Near the ruins of the castle of Rossmore, in Ireland, is a small cabin,\n",
      "in which there once lived a widow and her four children.  As  ...\n",
      "melville-moby_dick.txt [Moby Dick by Herman Melville 1851]\n",
      "\n",
      "\n",
      "ETYMOLOGY.\n",
      "\n",
      "(Supplied by a Late Consumptive Usher to a Grammar School)\n",
      "\n",
      "The pale Usher--threadbare in coat, heart, body, and brain; I see him\n",
      "now.  He was ...\n",
      "milton-paradise.txt [Paradise Lost by John Milton 1667] \n",
      " \n",
      " \n",
      "Book I \n",
      " \n",
      " \n",
      "Of Man's first disobedience, and the fruit \n",
      "Of that forbidden tree whose mortal taste \n",
      "Brought death into the World, and all our woe, \n",
      "With loss of ...\n",
      "shakespeare-caesar.txt [The Tragedie of Julius Caesar by William Shakespeare 1599]\n",
      "\n",
      "\n",
      "Actus Primus. Scoena Prima.\n",
      "\n",
      "Enter Flauius, Murellus, and certaine Commoners ouer the Stage.\n",
      "\n",
      "  Flauius. Hence: home you idle Creatures, g ...\n",
      "shakespeare-hamlet.txt [The Tragedie of Hamlet by William Shakespeare 1599]\n",
      "\n",
      "\n",
      "Actus Primus. Scoena Prima.\n",
      "\n",
      "Enter Barnardo and Francisco two Centinels.\n",
      "\n",
      "  Barnardo. Who's there?\n",
      "  Fran. Nay answer me: Stand & vnfold\n",
      "your sel ...\n",
      "shakespeare-macbeth.txt [The Tragedie of Macbeth by William Shakespeare 1603]\n",
      "\n",
      "\n",
      "Actus Primus. Scoena Prima.\n",
      "\n",
      "Thunder and Lightning. Enter three Witches.\n",
      "\n",
      "  1. When shall we three meet againe?\n",
      "In Thunder, Lightning, or in Rai ...\n",
      "whitman-leaves.txt [Leaves of Grass by Walt Whitman 1855]\n",
      "\n",
      "\n",
      "Come, said my soul,\n",
      "Such verses for my Body let us write, (for we are one,)\n",
      "That should I after return,\n",
      "Or, long, long hence, in other spheres,\n",
      "There to some g ...\n"
     ]
    }
   ],
   "source": [
    "from nltk.corpus import gutenberg\n",
    "\n",
    "# Printing the first 200 characters of each of the files\n",
    "for fileid in gutenberg.fileids():\n",
    "    print(fileid, gutenberg.raw(fileid)[:200], '...')"
   ]
  },
  {
   "cell_type": "code",
   "execution_count": 3,
   "metadata": {},
   "outputs": [
    {
     "name": "stdout",
     "output_type": "stream",
     "text": [
      "\n",
      "Sample data ['Today is 29th April. I am in Rudrapur,India. Currently I am attending a Natural Language Processing tutorial.']\n"
     ]
    }
   ],
   "source": [
    "sample_data = [\"Today is 29th April. I am in Rudrapur,India. Currently I am \" \\\n",
    "                \"attending a Natural Language Processing tutorial.\"]\n",
    "print('\\nSample data', sample_data)"
   ]
  },
  {
   "cell_type": "code",
   "execution_count": 7,
   "metadata": {},
   "outputs": [
    {
     "name": "stdout",
     "output_type": "stream",
     "text": [
      "\n",
      "Conference data: [\"As the evolving impacts of COVID-19 ripple through our communities, we are all facing unforeseen challenges. But recovery doesn't happen alone.\", 'Join us at Think Digital to gain new skills needed to adapt and evolve. Explore new ways of working and learn how to stabilize and protect your organization. Enhance IT resiliency, ensure business continuity and most importantly, stay connected.', \"Let's get thinking.\"]\n"
     ]
    }
   ],
   "source": [
    "from lxml import html\n",
    "import requests\n",
    "\n",
    "# Scraping data from a webpage element\n",
    "page = requests.get('https://www.ibm.com/events/think')\n",
    "tree = html.fromstring(page.content)\n",
    "webpage_data = tree.xpath('//*[@id=\"conference-overview\"]/div/div[2]/div/p/text()') \n",
    "\n",
    "# Iterating over all the elements\n",
    "conference_data = []\n",
    "for item in webpage_data:\n",
    "    conference_data.append(item)\n",
    "print('\\nConference data:', conference_data)"
   ]
  },
  {
   "cell_type": "code",
   "execution_count": 8,
   "metadata": {},
   "outputs": [],
   "source": [
    "from nltk.tokenize import sent_tokenize\n",
    "\n",
    "def get_sent_tokens(data):\n",
    "    \"\"\"Sentence tokenization\"\"\"\n",
    "    sentences = []\n",
    "    for sent in data:\n",
    "        sentences.extend(sent_tokenize(sent))\n",
    "    print('\\nSentence tokens:', sentences)\n",
    "    return sentences"
   ]
  },
  {
   "cell_type": "code",
   "execution_count": 9,
   "metadata": {},
   "outputs": [
    {
     "name": "stdout",
     "output_type": "stream",
     "text": [
      "\n",
      "Sentence tokens: ['Today is 29th April.', 'I am in Rudrapur,India.', 'Currently I am attending a Natural Language Processing tutorial.']\n"
     ]
    }
   ],
   "source": [
    "sample_sentences = get_sent_tokens(sample_data)"
   ]
  },
  {
   "cell_type": "code",
   "execution_count": 10,
   "metadata": {},
   "outputs": [
    {
     "name": "stdout",
     "output_type": "stream",
     "text": [
      "\n",
      "Sentence tokens: ['As the evolving impacts of COVID-19 ripple through our communities, we are all facing unforeseen challenges.', \"But recovery doesn't happen alone.\", 'Join us at Think Digital to gain new skills needed to adapt and evolve.', 'Explore new ways of working and learn how to stabilize and protect your organization.', 'Enhance IT resiliency, ensure business continuity and most importantly, stay connected.', \"Let's get thinking.\"]\n"
     ]
    }
   ],
   "source": [
    "conference_sentences = get_sent_tokens(conference_data)"
   ]
  },
  {
   "cell_type": "code",
   "execution_count": 11,
   "metadata": {},
   "outputs": [],
   "source": [
    "from nltk.tokenize import word_tokenize\n",
    "\n",
    "def get_word_tokens(sentences):\n",
    "    '''Word tokenization'''\n",
    "    words = []\n",
    "    for sent in sentences:\n",
    "        words.extend(word_tokenize(sent))\n",
    "    print('\\nWord tokens:', words)\n",
    "    return(words)"
   ]
  },
  {
   "cell_type": "code",
   "execution_count": 12,
   "metadata": {},
   "outputs": [
    {
     "name": "stdout",
     "output_type": "stream",
     "text": [
      "\n",
      "Word tokens: ['Today', 'is', '29th', 'April', '.', 'I', 'am', 'in', 'Rudrapur', ',', 'India', '.', 'Currently', 'I', 'am', 'attending', 'a', 'Natural', 'Language', 'Processing', 'tutorial', '.']\n"
     ]
    }
   ],
   "source": [
    "sample_words = get_word_tokens(sample_sentences)"
   ]
  },
  {
   "cell_type": "code",
   "execution_count": 13,
   "metadata": {},
   "outputs": [
    {
     "name": "stdout",
     "output_type": "stream",
     "text": [
      "\n",
      "Word tokens: ['As', 'the', 'evolving', 'impacts', 'of', 'COVID-19', 'ripple', 'through', 'our', 'communities', ',', 'we', 'are', 'all', 'facing', 'unforeseen', 'challenges', '.', 'But', 'recovery', 'does', \"n't\", 'happen', 'alone', '.', 'Join', 'us', 'at', 'Think', 'Digital', 'to', 'gain', 'new', 'skills', 'needed', 'to', 'adapt', 'and', 'evolve', '.', 'Explore', 'new', 'ways', 'of', 'working', 'and', 'learn', 'how', 'to', 'stabilize', 'and', 'protect', 'your', 'organization', '.', 'Enhance', 'IT', 'resiliency', ',', 'ensure', 'business', 'continuity', 'and', 'most', 'importantly', ',', 'stay', 'connected', '.', 'Let', \"'s\", 'get', 'thinking', '.']\n"
     ]
    }
   ],
   "source": [
    "conference_words = get_word_tokens(conference_sentences)"
   ]
  },
  {
   "cell_type": "code",
   "execution_count": 14,
   "metadata": {},
   "outputs": [],
   "source": [
    "import matplotlib\n",
    "from nltk.probability import FreqDist\n",
    "matplotlib.use('TkAgg') \n",
    "\n",
    "def plot_freq_dist(words, num_words = 20):\n",
    "    '''Frequency distribution'''\n",
    "    fdist = FreqDist(words)\n",
    "    fdist.plot(num_words, cumulative=False)"
   ]
  },
  {
   "cell_type": "code",
   "execution_count": 15,
   "metadata": {},
   "outputs": [
    {
     "data": {
      "image/png": "[encoded data removed]",
      "text/plain": [
       "<Figure size 432x288 with 1 Axes>"
      ]
     },
     "metadata": {
      "needs_background": "light"
     },
     "output_type": "display_data"
    }
   ],
   "source": [
    "%matplotlib inline\n",
    "plot_freq_dist(sample_words, num_words=10)"
   ]
  },
  {
   "cell_type": "code",
   "execution_count": 16,
   "metadata": {},
   "outputs": [
    {
     "data": {
      "image/png": "[encoded data removed]",
      "text/plain": [
       "<Figure size 432x288 with 1 Axes>"
      ]
     },
     "metadata": {
      "needs_background": "light"
     },
     "output_type": "display_data"
    }
   ],
   "source": [
    "plot_freq_dist(conference_words, num_words=30)"
   ]
  },
  {
   "cell_type": "code",
   "execution_count": 17,
   "metadata": {},
   "outputs": [
    {
     "name": "stderr",
     "output_type": "stream",
     "text": [
      "[nltk_data] Downloading package stopwords to\n",
      "[nltk_data]     C:\\Users\\webhelp\\AppData\\Roaming\\nltk_data...\n",
      "[nltk_data]   Unzipping corpora\\stopwords.zip.\n"
     ]
    }
   ],
   "source": [
    "import re\n",
    "nltk.download('stopwords')\n",
    "from nltk.corpus import stopwords\n",
    "\n",
    "stop_words = set(stopwords.words('english'))\n",
    "\n",
    "def get_clean_sentences(sentences, remove_digits=False):\n",
    "    '''Cleaning sentences by removing special characters and optionally digits'''\n",
    "    clean_sentences = []\n",
    "    for sent in sentences:\n",
    "        pattern = r'[^a-zA-Z0-9\\s]' if not remove_digits else r'[^a-zA-Z\\s]' \n",
    "        clean_text = re.sub(pattern, '', sent)\n",
    "        clean_text = clean_text.lower()  # Converting to lower case\n",
    "        clean_sentences.append(clean_text)\n",
    "    print('\\nClean sentences:', clean_sentences)\n",
    "    return clean_sentences\n",
    "\n",
    "def filter_stopwords(words):\n",
    "    '''Removing stopwords from given words'''\n",
    "    filtered_words = [w for w in words if w not in stop_words]\n",
    "    print('\\nFiltered words:', filtered_words)\n",
    "    return filtered_words"
   ]
  },
  {
   "cell_type": "code",
   "execution_count": 18,
   "metadata": {},
   "outputs": [
    {
     "name": "stdout",
     "output_type": "stream",
     "text": [
      "\n",
      "Clean sentences: ['today is th april', 'i am in rudrapurindia', 'currently i am attending a natural language processing tutorial']\n",
      "\n",
      "Word tokens: ['today', 'is', 'th', 'april', 'i', 'am', 'in', 'rudrapurindia', 'currently', 'i', 'am', 'attending', 'a', 'natural', 'language', 'processing', 'tutorial']\n",
      "\n",
      "Filtered words: ['today', 'th', 'april', 'rudrapurindia', 'currently', 'attending', 'natural', 'language', 'processing', 'tutorial']\n"
     ]
    }
   ],
   "source": [
    "sample_sentences = get_clean_sentences(sample_sentences, remove_digits = True)\n",
    "sample_words = get_word_tokens(sample_sentences)\n",
    "sample_words = filter_stopwords(sample_words)"
   ]
  },
  {
   "cell_type": "code",
   "execution_count": 19,
   "metadata": {},
   "outputs": [
    {
     "name": "stdout",
     "output_type": "stream",
     "text": [
      "\n",
      "Clean sentences: ['as the evolving impacts of covid19 ripple through our communities we are all facing unforeseen challenges', 'but recovery doesnt happen alone', 'join us at think digital to gain new skills needed to adapt and evolve', 'explore new ways of working and learn how to stabilize and protect your organization', 'enhance it resiliency ensure business continuity and most importantly stay connected', 'lets get thinking']\n",
      "\n",
      "Word tokens: ['as', 'the', 'evolving', 'impacts', 'of', 'covid19', 'ripple', 'through', 'our', 'communities', 'we', 'are', 'all', 'facing', 'unforeseen', 'challenges', 'but', 'recovery', 'doesnt', 'happen', 'alone', 'join', 'us', 'at', 'think', 'digital', 'to', 'gain', 'new', 'skills', 'needed', 'to', 'adapt', 'and', 'evolve', 'explore', 'new', 'ways', 'of', 'working', 'and', 'learn', 'how', 'to', 'stabilize', 'and', 'protect', 'your', 'organization', 'enhance', 'it', 'resiliency', 'ensure', 'business', 'continuity', 'and', 'most', 'importantly', 'stay', 'connected', 'lets', 'get', 'thinking']\n",
      "\n",
      "Filtered words: ['evolving', 'impacts', 'covid19', 'ripple', 'communities', 'facing', 'unforeseen', 'challenges', 'recovery', 'doesnt', 'happen', 'alone', 'join', 'us', 'think', 'digital', 'gain', 'new', 'skills', 'needed', 'adapt', 'evolve', 'explore', 'new', 'ways', 'working', 'learn', 'stabilize', 'protect', 'organization', 'enhance', 'resiliency', 'ensure', 'business', 'continuity', 'importantly', 'stay', 'connected', 'lets', 'get', 'thinking']\n"
     ]
    }
   ],
   "source": [
    "conference_sentences = get_clean_sentences(conference_sentences)\n",
    "conference_words = get_word_tokens(conference_sentences)\n",
    "conference_words = filter_stopwords(conference_words)"
   ]
  },
  {
   "cell_type": "code",
   "execution_count": 20,
   "metadata": {},
   "outputs": [
    {
     "name": "stderr",
     "output_type": "stream",
     "text": [
      "[nltk_data] Downloading package averaged_perceptron_tagger to\n",
      "[nltk_data]     C:\\Users\\webhelp\\AppData\\Roaming\\nltk_data...\n",
      "[nltk_data]   Unzipping taggers\\averaged_perceptron_tagger.zip.\n"
     ]
    }
   ],
   "source": [
    "nltk.download('averaged_perceptron_tagger')\n",
    "\n",
    "def get_pos_tags(words):\n",
    "    '''Get the part of speech (POS) tags for the words'''\n",
    "    tags=[]\n",
    "    for word in words:\n",
    "        tags.append(nltk.pos_tag([word]))\n",
    "    return tags"
   ]
  },
  {
   "cell_type": "code",
   "execution_count": 21,
   "metadata": {},
   "outputs": [
    {
     "data": {
      "text/plain": [
       "[[('today', 'NN')],\n",
       " [('th', 'NN')],\n",
       " [('april', 'NN')],\n",
       " [('rudrapurindia', 'NN')],\n",
       " [('currently', 'RB')],\n",
       " [('attending', 'VBG')],\n",
       " [('natural', 'JJ')],\n",
       " [('language', 'NN')],\n",
       " [('processing', 'NN')],\n",
       " [('tutorial', 'NN')]]"
      ]
     },
     "execution_count": 21,
     "metadata": {},
     "output_type": "execute_result"
    }
   ],
   "source": [
    "sample_tags = get_pos_tags(sample_words)\n",
    "sample_tags"
   ]
  },
  {
   "cell_type": "code",
   "execution_count": 22,
   "metadata": {},
   "outputs": [
    {
     "data": {
      "text/plain": [
       "[[('evolving', 'VBG')],\n",
       " [('impacts', 'NNS')],\n",
       " [('covid19', 'NN')],\n",
       " [('ripple', 'NN')],\n",
       " [('communities', 'NNS')],\n",
       " [('facing', 'VBG')],\n",
       " [('unforeseen', 'JJ')],\n",
       " [('challenges', 'NNS')],\n",
       " [('recovery', 'NN')],\n",
       " [('doesnt', 'NN')],\n",
       " [('happen', 'VB')],\n",
       " [('alone', 'RB')],\n",
       " [('join', 'NN')],\n",
       " [('us', 'PRP')],\n",
       " [('think', 'NN')],\n",
       " [('digital', 'NN')],\n",
       " [('gain', 'NN')],\n",
       " [('new', 'JJ')],\n",
       " [('skills', 'NNS')],\n",
       " [('needed', 'VBN')],\n",
       " [('adapt', 'NN')],\n",
       " [('evolve', 'NN')],\n",
       " [('explore', 'NN')],\n",
       " [('new', 'JJ')],\n",
       " [('ways', 'NNS')],\n",
       " [('working', 'VBG')],\n",
       " [('learn', 'NN')],\n",
       " [('stabilize', 'VB')],\n",
       " [('protect', 'NN')],\n",
       " [('organization', 'NN')],\n",
       " [('enhance', 'NN')],\n",
       " [('resiliency', 'NN')],\n",
       " [('ensure', 'VB')],\n",
       " [('business', 'NN')],\n",
       " [('continuity', 'NN')],\n",
       " [('importantly', 'RB')],\n",
       " [('stay', 'NN')],\n",
       " [('connected', 'VBN')],\n",
       " [('lets', 'NNS')],\n",
       " [('get', 'VB')],\n",
       " [('thinking', 'VBG')]]"
      ]
     },
     "execution_count": 22,
     "metadata": {},
     "output_type": "execute_result"
    }
   ],
   "source": [
    "conference_tags = get_pos_tags(conference_words)\n",
    "conference_tags"
   ]
  },
  {
   "cell_type": "code",
   "execution_count": 23,
   "metadata": {},
   "outputs": [
    {
     "name": "stderr",
     "output_type": "stream",
     "text": [
      "[nltk_data] Downloading package wordnet to\n",
      "[nltk_data]     C:\\Users\\webhelp\\AppData\\Roaming\\nltk_data...\n",
      "[nltk_data]   Unzipping corpora\\wordnet.zip.\n"
     ]
    }
   ],
   "source": [
    "nltk.download('wordnet')\n",
    "from nltk.corpus import wordnet \n",
    "\n",
    "def get_wordnet_properties(words):\n",
    "    '''Returns definition, synonyms and antonyms of words'''\n",
    "    for word in words:\n",
    "        synonyms = []\n",
    "        antonyms = []\n",
    "#         hyponyms = []\n",
    "#         hypernyms = []\n",
    "        definitions = []\n",
    "        for syn in wordnet.synsets(word):\n",
    "            for lm in syn.lemmas():\n",
    "                synonyms.append(lm.name())\n",
    "                if lm.antonyms(): \n",
    "                    antonyms.append(lm.antonyms()[0].name())\n",
    "#             hypernyms.append(syn.hypernyms())\n",
    "#             definitions.append(syn.definition())\n",
    "            \n",
    "        print(word)\n",
    "        print('Synonyms:', synonyms, '\\nAntonyms:', antonyms, '\\n')\n",
    "#         print('Definition:', definitions, '\\n')"
   ]
  },
  {
   "cell_type": "code",
   "execution_count": 24,
   "metadata": {},
   "outputs": [
    {
     "name": "stdout",
     "output_type": "stream",
     "text": [
      "they\n",
      "Synonyms: [] \n",
      "Antonyms: [] \n",
      "\n",
      "are\n",
      "Synonyms: ['are', 'ar', 'be', 'be', 'be', 'exist', 'be', 'be', 'equal', 'be', 'constitute', 'represent', 'make_up', 'comprise', 'be', 'be', 'follow', 'embody', 'be', 'personify', 'be', 'be', 'live', 'be', 'cost', 'be'] \n",
      "Antonyms: ['differ'] \n",
      "\n",
      "warm\n",
      "Synonyms: ['warm', 'warm_up', 'warm', 'warm', 'warm', 'warm', 'affectionate', 'fond', 'lovesome', 'tender', 'warm', 'strong', 'warm', 'quick', 'warm', 'ardent', 'warm', 'warm', 'warm', 'warm', 'warmly', 'warm'] \n",
      "Antonyms: ['cool', 'cool', 'cool'] \n",
      "\n",
      "nice\n",
      "Synonyms: ['Nice', 'nice', 'decent', 'nice', 'nice', 'skillful', 'dainty', 'nice', 'overnice', 'prissy', 'squeamish', 'courteous', 'gracious', 'nice'] \n",
      "Antonyms: ['nasty'] \n",
      "\n",
      "people\n",
      "Synonyms: ['people', 'citizenry', 'people', 'people', 'multitude', 'masses', 'mass', 'hoi_polloi', 'people', 'the_great_unwashed', 'people', 'people'] \n",
      "Antonyms: [] \n",
      "\n",
      "with\n",
      "Synonyms: [] \n",
      "Antonyms: [] \n",
      "\n",
      "big\n",
      "Synonyms: ['large', 'big', 'big', 'bad', 'big', 'big', 'big', 'large', 'prominent', 'big', 'heavy', 'boastful', 'braggart', 'bragging', 'braggy', 'big', 'cock-a-hoop', 'crowing', 'self-aggrandizing', 'self-aggrandising', 'big', 'swelled', 'vainglorious', 'adult', 'big', 'full-grown', 'fully_grown', 'grown', 'grownup', 'big', 'big', 'large', 'magnanimous', 'big', 'bighearted', 'bounteous', 'bountiful', 'freehanded', 'handsome', 'giving', 'liberal', 'openhanded', 'big', 'enceinte', 'expectant', 'gravid', 'great', 'large', 'heavy', 'with_child', 'big', 'boastfully', 'vauntingly', 'big', 'large', 'big', 'big'] \n",
      "Antonyms: ['small', 'little', 'small'] \n",
      "\n",
      "hearts\n",
      "Synonyms: ['hearts', 'Black_Maria', 'heart', 'bosom', 'heart', 'pump', 'ticker', 'heart', 'mettle', 'nerve', 'spunk', 'center', 'centre', 'middle', 'heart', 'eye', 'kernel', 'substance', 'core', 'center', 'centre', 'essence', 'gist', 'heart', 'heart_and_soul', 'inwardness', 'marrow', 'meat', 'nub', 'pith', 'sum', 'nitty-gritty', 'heart', 'spirit', 'heart', 'heart', 'affection', 'affectionateness', 'fondness', 'tenderness', 'heart', 'warmness', 'warmheartedness', 'philia', 'heart'] \n",
      "Antonyms: [] \n",
      "\n"
     ]
    }
   ],
   "source": [
    "joey_dialogue = ['they', 'are', 'warm', 'nice', 'people', 'with', 'big', 'hearts']\n",
    "get_wordnet_properties(joey_dialogue)"
   ]
  },
  {
   "cell_type": "code",
   "execution_count": 25,
   "metadata": {},
   "outputs": [
    {
     "name": "stdout",
     "output_type": "stream",
     "text": [
      "Synset('savings_bank.n.02')\n"
     ]
    }
   ],
   "source": [
    "from nltk.wsd import lesk\n",
    "sent = ['I', 'went', 'to', 'the', 'bank', 'to', 'deposit', 'money', '.']\n",
    "print(lesk(sent, 'bank', 'n'))"
   ]
  },
  {
   "cell_type": "code",
   "execution_count": 26,
   "metadata": {},
   "outputs": [
    {
     "name": "stdout",
     "output_type": "stream",
     "text": [
      "Synset('bank.n.06')\n"
     ]
    }
   ],
   "source": [
    "sent = ['I', 'was', 'sitting', 'by', 'the', 'bank', '.']\n",
    "print(lesk(sent, 'bank', 'n'))"
   ]
  },
  {
   "cell_type": "code",
   "execution_count": 27,
   "metadata": {},
   "outputs": [],
   "source": [
    "from nltk.stem import PorterStemmer\n",
    "\n",
    "def get_stems(words):\n",
    "    '''Reduce the words to their base word (stem) by cutting off the ends'''\n",
    "    ps = PorterStemmer()\n",
    "    stems = []\n",
    "    for word in words:\n",
    "        stems.append(ps.stem(word))\n",
    "    print(stems)\n",
    "    return stems"
   ]
  },
  {
   "cell_type": "code",
   "execution_count": 28,
   "metadata": {},
   "outputs": [
    {
     "name": "stdout",
     "output_type": "stream",
     "text": [
      "['today', 'th', 'april', 'rudrapurindia', 'current', 'attend', 'natur', 'languag', 'process', 'tutori']\n"
     ]
    }
   ],
   "source": [
    "sample_stems = get_stems(sample_words)"
   ]
  },
  {
   "cell_type": "code",
   "execution_count": 29,
   "metadata": {},
   "outputs": [
    {
     "name": "stdout",
     "output_type": "stream",
     "text": [
      "['evolv', 'impact', 'covid19', 'rippl', 'commun', 'face', 'unforeseen', 'challeng', 'recoveri', 'doesnt', 'happen', 'alon', 'join', 'us', 'think', 'digit', 'gain', 'new', 'skill', 'need', 'adapt', 'evolv', 'explor', 'new', 'way', 'work', 'learn', 'stabil', 'protect', 'organ', 'enhanc', 'resili', 'ensur', 'busi', 'continu', 'importantli', 'stay', 'connect', 'let', 'get', 'think']\n"
     ]
    }
   ],
   "source": [
    "conference_stems = get_stems(conference_words)"
   ]
  },
  {
   "cell_type": "code",
   "execution_count": 30,
   "metadata": {},
   "outputs": [
    {
     "name": "stderr",
     "output_type": "stream",
     "text": [
      "[nltk_data] Downloading package wordnet to\n",
      "[nltk_data]     C:\\Users\\webhelp\\AppData\\Roaming\\nltk_data...\n",
      "[nltk_data]   Package wordnet is already up-to-date!\n"
     ]
    }
   ],
   "source": [
    "nltk.download('wordnet')\n",
    "from nltk.stem import WordNetLemmatizer\n",
    "from nltk.corpus import wordnet\n",
    "\n",
    "def get_lemma(word_tags):\n",
    "    '''Reduce the words to their base word (lemma) by using a lexicon'''\n",
    "    wordnet_lemmatizer = WordNetLemmatizer()\n",
    "    lemma = []\n",
    "    for element in word_tags:\n",
    "        word = element[0][0]\n",
    "        pos = element[0][1]\n",
    "        tag = nltk.pos_tag([word])[0][1][0].upper()\n",
    "        tag_dict = {\"J\": wordnet.ADJ, # Mapping NLTK POS tags to WordNet POS tags\n",
    "                \"N\": wordnet.NOUN,\n",
    "                \"V\": wordnet.VERB,\n",
    "                \"R\": wordnet.ADV}\n",
    "\n",
    "        wordnet_pos = tag_dict.get(tag, wordnet.NOUN)\n",
    "        lemma.append(wordnet_lemmatizer.lemmatize(word, wordnet_pos))\n",
    "    print(lemma)\n",
    "    return(lemma)"
   ]
  },
  {
   "cell_type": "code",
   "execution_count": 31,
   "metadata": {},
   "outputs": [
    {
     "name": "stdout",
     "output_type": "stream",
     "text": [
      "['today', 'th', 'april', 'rudrapurindia', 'currently', 'attend', 'natural', 'language', 'processing', 'tutorial']\n"
     ]
    }
   ],
   "source": [
    "sample_lemma = get_lemma(sample_tags)"
   ]
  },
  {
   "cell_type": "code",
   "execution_count": 32,
   "metadata": {},
   "outputs": [
    {
     "name": "stdout",
     "output_type": "stream",
     "text": [
      "['evolve', 'impact', 'covid19', 'ripple', 'community', 'face', 'unforeseen', 'challenge', 'recovery', 'doesnt', 'happen', 'alone', 'join', 'u', 'think', 'digital', 'gain', 'new', 'skill', 'need', 'adapt', 'evolve', 'explore', 'new', 'way', 'work', 'learn', 'stabilize', 'protect', 'organization', 'enhance', 'resiliency', 'ensure', 'business', 'continuity', 'importantly', 'stay', 'connect', 'let', 'get', 'think']\n"
     ]
    }
   ],
   "source": [
    "conference_lemma = get_lemma(conference_tags)"
   ]
  },
  {
   "cell_type": "code",
   "execution_count": 33,
   "metadata": {},
   "outputs": [],
   "source": [
    "import sklearn\n",
    "from sklearn.feature_extraction.text import CountVectorizer\n",
    "\n",
    "def get_bag_of_words(sentences):\n",
    "    '''Compute bag of words for sentences'''\n",
    "    vectorizer = CountVectorizer()\n",
    "    print('\\nBag of words:', vectorizer.fit_transform(sentences).todense())\n",
    "    print('\\nDictionary:', vectorizer.vocabulary_)"
   ]
  },
  {
   "cell_type": "code",
   "execution_count": 34,
   "metadata": {},
   "outputs": [
    {
     "name": "stdout",
     "output_type": "stream",
     "text": [
      "\n",
      "Bag of words: [[1 2 1 1 1 1 1 1 1 1 1 1 1 1]]\n",
      "\n",
      "Dictionary: {'today': 12, 'is': 7, '29th': 0, 'april': 2, 'am': 1, 'in': 5, 'rudrapur': 11, 'india': 6, 'currently': 4, 'attending': 3, 'natural': 9, 'language': 8, 'processing': 10, 'tutorial': 13}\n"
     ]
    }
   ],
   "source": [
    "get_bag_of_words(sample_data)"
   ]
  },
  {
   "cell_type": "code",
   "execution_count": 35,
   "metadata": {},
   "outputs": [
    {
     "name": "stdout",
     "output_type": "stream",
     "text": [
      "\n",
      "Bag of words: [[1 0 1 1 0 1 1 0 0 1 1 1 0 0 1 0 1 0 0 0 1 0 1 0 0 1 0 1 0 0 0 0 0 0 0 0\n",
      "  1 0 1 0 1 0 1 0 0 0 1 0 0 1 0 1 0 0 1 0 0]\n",
      " [0 1 0 0 4 0 0 1 1 0 0 0 1 1 0 1 0 1 1 1 0 1 0 1 0 0 1 0 1 1 1 1 0 1 1 2\n",
      "  1 1 0 1 0 1 0 1 1 1 0 1 0 0 3 0 1 1 0 1 1]\n",
      " [0 0 0 0 0 0 0 0 0 0 0 0 0 0 0 0 0 0 0 0 0 0 0 0 1 0 0 0 0 0 0 0 1 0 0 0\n",
      "  0 0 0 0 0 0 0 0 0 0 0 0 1 0 0 0 0 0 0 0 0]]\n",
      "\n",
      "Dictionary: {'as': 6, 'the': 46, 'evolving': 20, 'impacts': 27, 'of': 36, 'covid': 14, '19': 0, 'ripple': 42, 'through': 49, 'our': 38, 'communities': 11, 'we': 54, 'are': 5, 'all': 2, 'facing': 22, 'unforeseen': 51, 'challenges': 10, 'but': 9, 'recovery': 40, 'doesn': 16, 'happen': 25, 'alone': 3, 'join': 30, 'us': 52, 'at': 7, 'think': 47, 'digital': 15, 'to': 50, 'gain': 23, 'new': 35, 'skills': 43, 'needed': 34, 'adapt': 1, 'and': 4, 'evolve': 19, 'explore': 21, 'ways': 53, 'working': 55, 'learn': 31, 'how': 26, 'stabilize': 44, 'protect': 39, 'your': 56, 'organization': 37, 'enhance': 17, 'it': 29, 'resiliency': 41, 'ensure': 18, 'business': 8, 'continuity': 13, 'most': 33, 'importantly': 28, 'stay': 45, 'connected': 12, 'let': 32, 'get': 24, 'thinking': 48}\n"
     ]
    }
   ],
   "source": [
    "get_bag_of_words(conference_data)"
   ]
  }
 ],
 "metadata": {
  "kernelspec": {
   "display_name": "Python 3",
   "language": "python",
   "name": "python3"
  },
  "language_info": {
   "codemirror_mode": {
    "name": "ipython",
    "version": 3
   },
   "file_extension": ".py",
   "mimetype": "text/x-python",
   "name": "python",
   "nbconvert_exporter": "python",
   "pygments_lexer": "ipython3",
   "version": "3.7.4"
  }
 },
 "nbformat": 4,
 "nbformat_minor": 2
}
